{
 "cells": [
  {
   "cell_type": "code",
   "execution_count": 0,
   "metadata": {
    "application/vnd.databricks.v1+cell": {
     "cellMetadata": {
      "byteLimit": 2048000,
      "implicitDf": true,
      "rowLimit": 10000
     },
     "inputWidgets": {},
     "nuid": "a50da89a-3de7-4e82-a87c-a75563b1190e",
     "showTitle": true,
     "title": "a"
    }
   },
   "outputs": [
    {
     "output_type": "display_data",
     "data": {
      "text/html": [
       "<style scoped>\n",
       "  .table-result-container {\n",
       "    max-height: 300px;\n",
       "    overflow: auto;\n",
       "  }\n",
       "  table, th, td {\n",
       "    border: 1px solid black;\n",
       "    border-collapse: collapse;\n",
       "  }\n",
       "  th, td {\n",
       "    padding: 5px;\n",
       "  }\n",
       "  th {\n",
       "    text-align: left;\n",
       "  }\n",
       "</style><div class='table-result-container'><table class='table-result'><thead style='background-color: white'><tr></tr></thead><tbody></tbody></table></div>"
      ]
     },
     "metadata": {
      "application/vnd.databricks.v1+output": {
       "addedWidgets": {},
       "aggData": [],
       "aggError": "",
       "aggOverflow": false,
       "aggSchema": [],
       "aggSeriesLimitReached": false,
       "aggType": "",
       "arguments": {},
       "columnCustomDisplayInfos": {},
       "data": [],
       "datasetInfos": [],
       "dbfsResultPath": null,
       "isJsonSchema": true,
       "metadata": {},
       "overflow": false,
       "plotOptions": {
        "customPlotOptions": {},
        "displayType": "table",
        "pivotAggregation": null,
        "pivotColumns": null,
        "xColumns": null,
        "yColumns": null
       },
       "removedWidgets": [],
       "schema": [],
       "type": "table"
      }
     },
     "output_type": "display_data"
    }
   ],
   "source": [
    "%sql\n",
    "create table car_bronze01\n",
    "(car_name STRING, car_brand STRING, units_sold INT, car_type string)\n",
    "using DELTA TBLPROPERTIES (delta.enableChangeDataFeed=true);\n"
   ]
  },
  {
   "cell_type": "code",
   "execution_count": 0,
   "metadata": {
    "application/vnd.databricks.v1+cell": {
     "cellMetadata": {
      "byteLimit": 2048000,
      "rowLimit": 10000
     },
     "inputWidgets": {},
     "nuid": "435de8fb-ab88-4634-83fd-edb8a5ffe82f",
     "showTitle": false,
     "title": ""
    }
   },
   "outputs": [],
   "source": [
    "#insert the data in python notebook\n",
    "data=[\n",
    "    ('LC300','Toyota',5,'SUV'),\n",
    "    ('Creta','Hyundai',750,'SUV'),\n",
    "    ('Breeza','Suzuki',20,'CUV'),\n",
    "    ('Urus','Lamborghini',75,'SUV'),\n",
    "    ('Bentayga','Bentley',200,'SUV'),\n",
    "    ]\n",
    "columns=['car_name', 'car_brand','units_sold','car_type']\n",
    "df=spark.createDataFrame(data=data,schema=columns)\n",
    "df.createOrReplaceTempView(\"car_bronze01_table01\")"
   ]
  },
  {
   "cell_type": "code",
   "execution_count": 0,
   "metadata": {
    "application/vnd.databricks.v1+cell": {
     "cellMetadata": {
      "byteLimit": 2048000,
      "implicitDf": true,
      "rowLimit": 10000
     },
     "inputWidgets": {},
     "nuid": "c4e29165-af9a-49bf-8a8d-d5a97dfd72ef",
     "showTitle": false,
     "title": ""
    }
   },
   "outputs": [
    {
     "output_type": "display_data",
     "data": {
      "text/html": [
       "<style scoped>\n",
       "  .table-result-container {\n",
       "    max-height: 300px;\n",
       "    overflow: auto;\n",
       "  }\n",
       "  table, th, td {\n",
       "    border: 1px solid black;\n",
       "    border-collapse: collapse;\n",
       "  }\n",
       "  th, td {\n",
       "    padding: 5px;\n",
       "  }\n",
       "  th {\n",
       "    text-align: left;\n",
       "  }\n",
       "</style><div class='table-result-container'><table class='table-result'><thead style='background-color: white'><tr><th>num_affected_rows</th><th>num_inserted_rows</th></tr></thead><tbody><tr><td>5</td><td>5</td></tr></tbody></table></div>"
      ]
     },
     "metadata": {
      "application/vnd.databricks.v1+output": {
       "addedWidgets": {},
       "aggData": [],
       "aggError": "",
       "aggOverflow": false,
       "aggSchema": [],
       "aggSeriesLimitReached": false,
       "aggType": "",
       "arguments": {},
       "columnCustomDisplayInfos": {},
       "data": [
        [
         5,
         5
        ]
       ],
       "datasetInfos": [],
       "dbfsResultPath": null,
       "isJsonSchema": true,
       "metadata": {},
       "overflow": false,
       "plotOptions": {
        "customPlotOptions": {},
        "displayType": "table",
        "pivotAggregation": null,
        "pivotColumns": null,
        "xColumns": null,
        "yColumns": null
       },
       "removedWidgets": [],
       "schema": [
        {
         "metadata": "{}",
         "name": "num_affected_rows",
         "type": "\"long\""
        },
        {
         "metadata": "{}",
         "name": "num_inserted_rows",
         "type": "\"long\""
        }
       ],
       "type": "table"
      }
     },
     "output_type": "display_data"
    }
   ],
   "source": [
    "%sql\n",
    "INSERT INTO car_bronze01 TABLE car_bronze01_table01"
   ]
  },
  {
   "cell_type": "code",
   "execution_count": 0,
   "metadata": {
    "application/vnd.databricks.v1+cell": {
     "cellMetadata": {
      "byteLimit": 2048000,
      "implicitDf": true,
      "rowLimit": 10000
     },
     "inputWidgets": {},
     "nuid": "919958e7-a718-4fa7-9867-8920f759adb6",
     "showTitle": false,
     "title": ""
    }
   },
   "outputs": [
    {
     "output_type": "display_data",
     "data": {
      "text/html": [
       "<style scoped>\n",
       "  .table-result-container {\n",
       "    max-height: 300px;\n",
       "    overflow: auto;\n",
       "  }\n",
       "  table, th, td {\n",
       "    border: 1px solid black;\n",
       "    border-collapse: collapse;\n",
       "  }\n",
       "  th, td {\n",
       "    padding: 5px;\n",
       "  }\n",
       "  th {\n",
       "    text-align: left;\n",
       "  }\n",
       "</style><div class='table-result-container'><table class='table-result'><thead style='background-color: white'><tr><th>car_name</th><th>car_brand</th><th>units_sold</th><th>car_type</th><th>_change_type</th><th>_commit_version</th><th>_commit_timestamp</th></tr></thead><tbody><tr><td>Urus</td><td>Lamborghini</td><td>75</td><td>SUV</td><td>insert</td><td>1</td><td>2023-05-24T08:48:16.000+0000</td></tr><tr><td>Bentayga</td><td>Bentley</td><td>200</td><td>SUV</td><td>insert</td><td>1</td><td>2023-05-24T08:48:16.000+0000</td></tr><tr><td>Breeza</td><td>Suzuki</td><td>20</td><td>CUV</td><td>insert</td><td>1</td><td>2023-05-24T08:48:16.000+0000</td></tr><tr><td>Creta</td><td>Hyundai</td><td>750</td><td>SUV</td><td>insert</td><td>1</td><td>2023-05-24T08:48:16.000+0000</td></tr><tr><td>LC300</td><td>Toyota</td><td>5</td><td>SUV</td><td>insert</td><td>1</td><td>2023-05-24T08:48:16.000+0000</td></tr></tbody></table></div>"
      ]
     },
     "metadata": {
      "application/vnd.databricks.v1+output": {
       "addedWidgets": {},
       "aggData": [],
       "aggError": "",
       "aggOverflow": false,
       "aggSchema": [],
       "aggSeriesLimitReached": false,
       "aggType": "",
       "arguments": {},
       "columnCustomDisplayInfos": {},
       "data": [
        [
         "Urus",
         "Lamborghini",
         75,
         "SUV",
         "insert",
         1,
         "2023-05-24T08:48:16.000+0000"
        ],
        [
         "Bentayga",
         "Bentley",
         200,
         "SUV",
         "insert",
         1,
         "2023-05-24T08:48:16.000+0000"
        ],
        [
         "Breeza",
         "Suzuki",
         20,
         "CUV",
         "insert",
         1,
         "2023-05-24T08:48:16.000+0000"
        ],
        [
         "Creta",
         "Hyundai",
         750,
         "SUV",
         "insert",
         1,
         "2023-05-24T08:48:16.000+0000"
        ],
        [
         "LC300",
         "Toyota",
         5,
         "SUV",
         "insert",
         1,
         "2023-05-24T08:48:16.000+0000"
        ]
       ],
       "datasetInfos": [],
       "dbfsResultPath": null,
       "isJsonSchema": true,
       "metadata": {},
       "overflow": false,
       "plotOptions": {
        "customPlotOptions": {},
        "displayType": "table",
        "pivotAggregation": null,
        "pivotColumns": null,
        "xColumns": null,
        "yColumns": null
       },
       "removedWidgets": [],
       "schema": [
        {
         "metadata": "{}",
         "name": "car_name",
         "type": "\"string\""
        },
        {
         "metadata": "{}",
         "name": "car_brand",
         "type": "\"string\""
        },
        {
         "metadata": "{}",
         "name": "units_sold",
         "type": "\"integer\""
        },
        {
         "metadata": "{}",
         "name": "car_type",
         "type": "\"string\""
        },
        {
         "metadata": "{}",
         "name": "_change_type",
         "type": "\"string\""
        },
        {
         "metadata": "{}",
         "name": "_commit_version",
         "type": "\"long\""
        },
        {
         "metadata": "{}",
         "name": "_commit_timestamp",
         "type": "\"timestamp\""
        }
       ],
       "type": "table"
      }
     },
     "output_type": "display_data"
    }
   ],
   "source": [
    "%sql\n",
    "select * from table_changes (\"car_bronze01\", 1)"
   ]
  },
  {
   "cell_type": "code",
   "execution_count": 0,
   "metadata": {
    "application/vnd.databricks.v1+cell": {
     "cellMetadata": {
      "byteLimit": 2048000,
      "rowLimit": 10000
     },
     "inputWidgets": {},
     "nuid": "f49540a3-b21b-4312-b2ff-cf5a37771e9f",
     "showTitle": false,
     "title": ""
    }
   },
   "outputs": [],
   "source": [
    "#insert the data in python notebook\n",
    "data1=[\n",
    "    ('Explorer','Ford',25,'SUV'),\n",
    "    ('Dmax','Isuzu',75,'Pickup'),\n",
    "    ('Hexa','Tata',25,'MPV'),\n",
    "    ('Kona','Hyundai',125,'EV'),\n",
    "    ('Charger','Dodge',20,'SUV'),\n",
    "    ]\n",
    "columns1=['car_name', 'car_brand','units_sold','car_type']\n",
    "df1=spark.createDataFrame(data=data,schema=columns)\n",
    "df1.createOrReplaceTempView(\"car_bronze01_table01\")"
   ]
  },
  {
   "cell_type": "code",
   "execution_count": 0,
   "metadata": {
    "application/vnd.databricks.v1+cell": {
     "cellMetadata": {
      "byteLimit": 2048000,
      "implicitDf": true,
      "rowLimit": 10000
     },
     "inputWidgets": {},
     "nuid": "7b9252ae-e2c8-4fc3-934b-f26552ca12cf",
     "showTitle": false,
     "title": ""
    }
   },
   "outputs": [
    {
     "output_type": "display_data",
     "data": {
      "text/html": [
       "<style scoped>\n",
       "  .table-result-container {\n",
       "    max-height: 300px;\n",
       "    overflow: auto;\n",
       "  }\n",
       "  table, th, td {\n",
       "    border: 1px solid black;\n",
       "    border-collapse: collapse;\n",
       "  }\n",
       "  th, td {\n",
       "    padding: 5px;\n",
       "  }\n",
       "  th {\n",
       "    text-align: left;\n",
       "  }\n",
       "</style><div class='table-result-container'><table class='table-result'><thead style='background-color: white'><tr><th>num_affected_rows</th><th>num_inserted_rows</th></tr></thead><tbody><tr><td>5</td><td>5</td></tr></tbody></table></div>"
      ]
     },
     "metadata": {
      "application/vnd.databricks.v1+output": {
       "addedWidgets": {},
       "aggData": [],
       "aggError": "",
       "aggOverflow": false,
       "aggSchema": [],
       "aggSeriesLimitReached": false,
       "aggType": "",
       "arguments": {},
       "columnCustomDisplayInfos": {},
       "data": [
        [
         5,
         5
        ]
       ],
       "datasetInfos": [],
       "dbfsResultPath": null,
       "isJsonSchema": true,
       "metadata": {},
       "overflow": false,
       "plotOptions": {
        "customPlotOptions": {},
        "displayType": "table",
        "pivotAggregation": null,
        "pivotColumns": null,
        "xColumns": null,
        "yColumns": null
       },
       "removedWidgets": [],
       "schema": [
        {
         "metadata": "{}",
         "name": "num_affected_rows",
         "type": "\"long\""
        },
        {
         "metadata": "{}",
         "name": "num_inserted_rows",
         "type": "\"long\""
        }
       ],
       "type": "table"
      }
     },
     "output_type": "display_data"
    }
   ],
   "source": [
    "%sql\n",
    "INSERT INTO car_bronze01 TABLE car_bronze01_table01"
   ]
  },
  {
   "cell_type": "code",
   "execution_count": 0,
   "metadata": {
    "application/vnd.databricks.v1+cell": {
     "cellMetadata": {
      "byteLimit": 2048000,
      "implicitDf": true,
      "rowLimit": 10000
     },
     "inputWidgets": {},
     "nuid": "102b98dd-ab52-4e6a-a96f-e58cc5186b46",
     "showTitle": false,
     "title": ""
    }
   },
   "outputs": [
    {
     "output_type": "display_data",
     "data": {
      "text/html": [
       "<style scoped>\n",
       "  .table-result-container {\n",
       "    max-height: 300px;\n",
       "    overflow: auto;\n",
       "  }\n",
       "  table, th, td {\n",
       "    border: 1px solid black;\n",
       "    border-collapse: collapse;\n",
       "  }\n",
       "  th, td {\n",
       "    padding: 5px;\n",
       "  }\n",
       "  th {\n",
       "    text-align: left;\n",
       "  }\n",
       "</style><div class='table-result-container'><table class='table-result'><thead style='background-color: white'><tr><th>car_name</th><th>car_brand</th><th>units_sold</th><th>car_type</th><th>_change_type</th><th>_commit_version</th><th>_commit_timestamp</th></tr></thead><tbody><tr><td>Urus</td><td>Lamborghini</td><td>75</td><td>SUV</td><td>insert</td><td>2</td><td>2023-05-24T09:08:36.000+0000</td></tr><tr><td>Bentayga</td><td>Bentley</td><td>200</td><td>SUV</td><td>insert</td><td>2</td><td>2023-05-24T09:08:36.000+0000</td></tr><tr><td>Breeza</td><td>Suzuki</td><td>20</td><td>CUV</td><td>insert</td><td>2</td><td>2023-05-24T09:08:36.000+0000</td></tr><tr><td>Creta</td><td>Hyundai</td><td>750</td><td>SUV</td><td>insert</td><td>2</td><td>2023-05-24T09:08:36.000+0000</td></tr><tr><td>LC300</td><td>Toyota</td><td>5</td><td>SUV</td><td>insert</td><td>2</td><td>2023-05-24T09:08:36.000+0000</td></tr></tbody></table></div>"
      ]
     },
     "metadata": {
      "application/vnd.databricks.v1+output": {
       "addedWidgets": {},
       "aggData": [],
       "aggError": "",
       "aggOverflow": false,
       "aggSchema": [],
       "aggSeriesLimitReached": false,
       "aggType": "",
       "arguments": {},
       "columnCustomDisplayInfos": {},
       "data": [
        [
         "Urus",
         "Lamborghini",
         75,
         "SUV",
         "insert",
         2,
         "2023-05-24T09:08:36.000+0000"
        ],
        [
         "Bentayga",
         "Bentley",
         200,
         "SUV",
         "insert",
         2,
         "2023-05-24T09:08:36.000+0000"
        ],
        [
         "Breeza",
         "Suzuki",
         20,
         "CUV",
         "insert",
         2,
         "2023-05-24T09:08:36.000+0000"
        ],
        [
         "Creta",
         "Hyundai",
         750,
         "SUV",
         "insert",
         2,
         "2023-05-24T09:08:36.000+0000"
        ],
        [
         "LC300",
         "Toyota",
         5,
         "SUV",
         "insert",
         2,
         "2023-05-24T09:08:36.000+0000"
        ]
       ],
       "datasetInfos": [],
       "dbfsResultPath": null,
       "isJsonSchema": true,
       "metadata": {},
       "overflow": false,
       "plotOptions": {
        "customPlotOptions": {},
        "displayType": "table",
        "pivotAggregation": null,
        "pivotColumns": null,
        "xColumns": null,
        "yColumns": null
       },
       "removedWidgets": [],
       "schema": [
        {
         "metadata": "{}",
         "name": "car_name",
         "type": "\"string\""
        },
        {
         "metadata": "{}",
         "name": "car_brand",
         "type": "\"string\""
        },
        {
         "metadata": "{}",
         "name": "units_sold",
         "type": "\"integer\""
        },
        {
         "metadata": "{}",
         "name": "car_type",
         "type": "\"string\""
        },
        {
         "metadata": "{}",
         "name": "_change_type",
         "type": "\"string\""
        },
        {
         "metadata": "{}",
         "name": "_commit_version",
         "type": "\"long\""
        },
        {
         "metadata": "{}",
         "name": "_commit_timestamp",
         "type": "\"timestamp\""
        }
       ],
       "type": "table"
      }
     },
     "output_type": "display_data"
    }
   ],
   "source": [
    "%sql\n",
    "select * from table_changes (\"car_bronze01\", 2)"
   ]
  },
  {
   "cell_type": "code",
   "execution_count": 0,
   "metadata": {
    "application/vnd.databricks.v1+cell": {
     "cellMetadata": {
      "byteLimit": 2048000,
      "implicitDf": true,
      "rowLimit": 10000
     },
     "inputWidgets": {},
     "nuid": "c5be4f64-bf83-4388-a096-531d945cbe09",
     "showTitle": false,
     "title": ""
    }
   },
   "outputs": [
    {
     "output_type": "display_data",
     "data": {
      "text/html": [
       "<style scoped>\n",
       "  .table-result-container {\n",
       "    max-height: 300px;\n",
       "    overflow: auto;\n",
       "  }\n",
       "  table, th, td {\n",
       "    border: 1px solid black;\n",
       "    border-collapse: collapse;\n",
       "  }\n",
       "  th, td {\n",
       "    padding: 5px;\n",
       "  }\n",
       "  th {\n",
       "    text-align: left;\n",
       "  }\n",
       "</style><div class='table-result-container'><table class='table-result'><thead style='background-color: white'><tr></tr></thead><tbody></tbody></table></div>"
      ]
     },
     "metadata": {
      "application/vnd.databricks.v1+output": {
       "addedWidgets": {},
       "aggData": [],
       "aggError": "",
       "aggOverflow": false,
       "aggSchema": [],
       "aggSeriesLimitReached": false,
       "aggType": "",
       "arguments": {},
       "columnCustomDisplayInfos": {},
       "data": [],
       "datasetInfos": [],
       "dbfsResultPath": null,
       "isJsonSchema": true,
       "metadata": {},
       "overflow": false,
       "plotOptions": {
        "customPlotOptions": {},
        "displayType": "table",
        "pivotAggregation": null,
        "pivotColumns": null,
        "xColumns": null,
        "yColumns": null
       },
       "removedWidgets": [],
       "schema": [],
       "type": "table"
      }
     },
     "output_type": "display_data"
    }
   ],
   "source": [
    "%sql\n",
    "create table car_silver01\n",
    "(car_name STRING, car_brand STRING, units_sold INT, car_type string)\n",
    "using DELTA TBLPROPERTIES (delta.enableChangeDataFeed=true);"
   ]
  },
  {
   "cell_type": "code",
   "execution_count": 0,
   "metadata": {
    "application/vnd.databricks.v1+cell": {
     "cellMetadata": {
      "byteLimit": 2048000,
      "implicitDf": true,
      "rowLimit": 10000
     },
     "inputWidgets": {},
     "nuid": "16cd0c18-86a9-4546-b781-62ae93f7ffb6",
     "showTitle": false,
     "title": ""
    }
   },
   "outputs": [
    {
     "output_type": "display_data",
     "data": {
      "text/html": [
       "<style scoped>\n",
       "  .table-result-container {\n",
       "    max-height: 300px;\n",
       "    overflow: auto;\n",
       "  }\n",
       "  table, th, td {\n",
       "    border: 1px solid black;\n",
       "    border-collapse: collapse;\n",
       "  }\n",
       "  th, td {\n",
       "    padding: 5px;\n",
       "  }\n",
       "  th {\n",
       "    text-align: left;\n",
       "  }\n",
       "</style><div class='table-result-container'><table class='table-result'><thead style='background-color: white'><tr><th>num_affected_rows</th><th>num_inserted_rows</th></tr></thead><tbody><tr><td>10</td><td>10</td></tr></tbody></table></div>"
      ]
     },
     "metadata": {
      "application/vnd.databricks.v1+output": {
       "addedWidgets": {},
       "aggData": [],
       "aggError": "",
       "aggOverflow": false,
       "aggSchema": [],
       "aggSeriesLimitReached": false,
       "aggType": "",
       "arguments": {},
       "columnCustomDisplayInfos": {},
       "data": [
        [
         10,
         10
        ]
       ],
       "datasetInfos": [],
       "dbfsResultPath": null,
       "isJsonSchema": true,
       "metadata": {},
       "overflow": false,
       "plotOptions": {
        "customPlotOptions": {},
        "displayType": "table",
        "pivotAggregation": null,
        "pivotColumns": null,
        "xColumns": null,
        "yColumns": null
       },
       "removedWidgets": [],
       "schema": [
        {
         "metadata": "{}",
         "name": "num_affected_rows",
         "type": "\"long\""
        },
        {
         "metadata": "{}",
         "name": "num_inserted_rows",
         "type": "\"long\""
        }
       ],
       "type": "table"
      }
     },
     "output_type": "display_data"
    }
   ],
   "source": [
    "%sql\n",
    "insert into car_silver01(SELECT car_name,car_brand,units_sold,car_type FROM table_changes('car_bronze01',1))"
   ]
  },
  {
   "cell_type": "code",
   "execution_count": 0,
   "metadata": {
    "application/vnd.databricks.v1+cell": {
     "cellMetadata": {
      "byteLimit": 2048000,
      "implicitDf": true,
      "rowLimit": 10000
     },
     "inputWidgets": {},
     "nuid": "fc5a5b4e-0797-4649-8e1e-6b5fb53f22ad",
     "showTitle": false,
     "title": ""
    }
   },
   "outputs": [
    {
     "output_type": "display_data",
     "data": {
      "text/html": [
       "<style scoped>\n",
       "  .table-result-container {\n",
       "    max-height: 300px;\n",
       "    overflow: auto;\n",
       "  }\n",
       "  table, th, td {\n",
       "    border: 1px solid black;\n",
       "    border-collapse: collapse;\n",
       "  }\n",
       "  th, td {\n",
       "    padding: 5px;\n",
       "  }\n",
       "  th {\n",
       "    text-align: left;\n",
       "  }\n",
       "</style><div class='table-result-container'><table class='table-result'><thead style='background-color: white'><tr><th>car_name</th><th>car_brand</th><th>units_sold</th><th>car_type</th><th>_change_type</th><th>_commit_version</th><th>_commit_timestamp</th></tr></thead><tbody><tr><td>Urus</td><td>Lamborghini</td><td>75</td><td>SUV</td><td>insert</td><td>1</td><td>2023-05-24T09:16:39.000+0000</td></tr><tr><td>Bentayga</td><td>Bentley</td><td>200</td><td>SUV</td><td>insert</td><td>1</td><td>2023-05-24T09:16:39.000+0000</td></tr><tr><td>Urus</td><td>Lamborghini</td><td>75</td><td>SUV</td><td>insert</td><td>1</td><td>2023-05-24T09:16:39.000+0000</td></tr><tr><td>Bentayga</td><td>Bentley</td><td>200</td><td>SUV</td><td>insert</td><td>1</td><td>2023-05-24T09:16:39.000+0000</td></tr><tr><td>Breeza</td><td>Suzuki</td><td>20</td><td>CUV</td><td>insert</td><td>1</td><td>2023-05-24T09:16:39.000+0000</td></tr><tr><td>Breeza</td><td>Suzuki</td><td>20</td><td>CUV</td><td>insert</td><td>1</td><td>2023-05-24T09:16:39.000+0000</td></tr><tr><td>Creta</td><td>Hyundai</td><td>750</td><td>SUV</td><td>insert</td><td>1</td><td>2023-05-24T09:16:39.000+0000</td></tr><tr><td>Creta</td><td>Hyundai</td><td>750</td><td>SUV</td><td>insert</td><td>1</td><td>2023-05-24T09:16:39.000+0000</td></tr><tr><td>LC300</td><td>Toyota</td><td>5</td><td>SUV</td><td>insert</td><td>1</td><td>2023-05-24T09:16:39.000+0000</td></tr><tr><td>LC300</td><td>Toyota</td><td>5</td><td>SUV</td><td>insert</td><td>1</td><td>2023-05-24T09:16:39.000+0000</td></tr></tbody></table></div>"
      ]
     },
     "metadata": {
      "application/vnd.databricks.v1+output": {
       "addedWidgets": {},
       "aggData": [],
       "aggError": "",
       "aggOverflow": false,
       "aggSchema": [],
       "aggSeriesLimitReached": false,
       "aggType": "",
       "arguments": {},
       "columnCustomDisplayInfos": {},
       "data": [
        [
         "Urus",
         "Lamborghini",
         75,
         "SUV",
         "insert",
         1,
         "2023-05-24T09:16:39.000+0000"
        ],
        [
         "Bentayga",
         "Bentley",
         200,
         "SUV",
         "insert",
         1,
         "2023-05-24T09:16:39.000+0000"
        ],
        [
         "Urus",
         "Lamborghini",
         75,
         "SUV",
         "insert",
         1,
         "2023-05-24T09:16:39.000+0000"
        ],
        [
         "Bentayga",
         "Bentley",
         200,
         "SUV",
         "insert",
         1,
         "2023-05-24T09:16:39.000+0000"
        ],
        [
         "Breeza",
         "Suzuki",
         20,
         "CUV",
         "insert",
         1,
         "2023-05-24T09:16:39.000+0000"
        ],
        [
         "Breeza",
         "Suzuki",
         20,
         "CUV",
         "insert",
         1,
         "2023-05-24T09:16:39.000+0000"
        ],
        [
         "Creta",
         "Hyundai",
         750,
         "SUV",
         "insert",
         1,
         "2023-05-24T09:16:39.000+0000"
        ],
        [
         "Creta",
         "Hyundai",
         750,
         "SUV",
         "insert",
         1,
         "2023-05-24T09:16:39.000+0000"
        ],
        [
         "LC300",
         "Toyota",
         5,
         "SUV",
         "insert",
         1,
         "2023-05-24T09:16:39.000+0000"
        ],
        [
         "LC300",
         "Toyota",
         5,
         "SUV",
         "insert",
         1,
         "2023-05-24T09:16:39.000+0000"
        ]
       ],
       "datasetInfos": [],
       "dbfsResultPath": null,
       "isJsonSchema": true,
       "metadata": {},
       "overflow": false,
       "plotOptions": {
        "customPlotOptions": {},
        "displayType": "table",
        "pivotAggregation": null,
        "pivotColumns": null,
        "xColumns": null,
        "yColumns": null
       },
       "removedWidgets": [],
       "schema": [
        {
         "metadata": "{}",
         "name": "car_name",
         "type": "\"string\""
        },
        {
         "metadata": "{}",
         "name": "car_brand",
         "type": "\"string\""
        },
        {
         "metadata": "{}",
         "name": "units_sold",
         "type": "\"integer\""
        },
        {
         "metadata": "{}",
         "name": "car_type",
         "type": "\"string\""
        },
        {
         "metadata": "{}",
         "name": "_change_type",
         "type": "\"string\""
        },
        {
         "metadata": "{}",
         "name": "_commit_version",
         "type": "\"long\""
        },
        {
         "metadata": "{}",
         "name": "_commit_timestamp",
         "type": "\"timestamp\""
        }
       ],
       "type": "table"
      }
     },
     "output_type": "display_data"
    }
   ],
   "source": [
    "%sql\n",
    "SELECT * FROM table_changes('car_silver01', 1)"
   ]
  },
  {
   "cell_type": "code",
   "execution_count": 0,
   "metadata": {
    "application/vnd.databricks.v1+cell": {
     "cellMetadata": {
      "byteLimit": 2048000,
      "implicitDf": true,
      "rowLimit": 10000
     },
     "inputWidgets": {},
     "nuid": "99d8a032-0c70-4bf5-8f1b-b8766d6dcd8e",
     "showTitle": false,
     "title": ""
    }
   },
   "outputs": [
    {
     "output_type": "display_data",
     "data": {
      "text/html": [
       "<style scoped>\n",
       "  .table-result-container {\n",
       "    max-height: 300px;\n",
       "    overflow: auto;\n",
       "  }\n",
       "  table, th, td {\n",
       "    border: 1px solid black;\n",
       "    border-collapse: collapse;\n",
       "  }\n",
       "  th, td {\n",
       "    padding: 5px;\n",
       "  }\n",
       "  th {\n",
       "    text-align: left;\n",
       "  }\n",
       "</style><div class='table-result-container'><table class='table-result'><thead style='background-color: white'><tr></tr></thead><tbody></tbody></table></div>"
      ]
     },
     "metadata": {
      "application/vnd.databricks.v1+output": {
       "addedWidgets": {},
       "aggData": [],
       "aggError": "",
       "aggOverflow": false,
       "aggSchema": [],
       "aggSeriesLimitReached": false,
       "aggType": "",
       "arguments": {},
       "columnCustomDisplayInfos": {},
       "data": [],
       "datasetInfos": [],
       "dbfsResultPath": null,
       "isJsonSchema": true,
       "metadata": {},
       "overflow": false,
       "plotOptions": {
        "customPlotOptions": {},
        "displayType": "table",
        "pivotAggregation": null,
        "pivotColumns": null,
        "xColumns": null,
        "yColumns": null
       },
       "removedWidgets": [],
       "schema": [],
       "type": "table"
      }
     },
     "output_type": "display_data"
    }
   ],
   "source": [
    "%sql\n",
    "create table car_gold01\n",
    "(car_name STRING, car_brand STRING, units_sold INT, car_type string)\n",
    "using DELTA TBLPROPERTIES(delta.enableChangeDataFeed=true);"
   ]
  },
  {
   "cell_type": "code",
   "execution_count": 0,
   "metadata": {
    "application/vnd.databricks.v1+cell": {
     "cellMetadata": {
      "byteLimit": 2048000,
      "implicitDf": true,
      "rowLimit": 10000
     },
     "inputWidgets": {},
     "nuid": "b768e0c1-307f-480b-8d53-48e3822e303c",
     "showTitle": false,
     "title": ""
    }
   },
   "outputs": [
    {
     "output_type": "display_data",
     "data": {
      "text/html": [
       "<style scoped>\n",
       "  .table-result-container {\n",
       "    max-height: 300px;\n",
       "    overflow: auto;\n",
       "  }\n",
       "  table, th, td {\n",
       "    border: 1px solid black;\n",
       "    border-collapse: collapse;\n",
       "  }\n",
       "  th, td {\n",
       "    padding: 5px;\n",
       "  }\n",
       "  th {\n",
       "    text-align: left;\n",
       "  }\n",
       "</style><div class='table-result-container'><table class='table-result'><thead style='background-color: white'><tr><th>num_affected_rows</th><th>num_inserted_rows</th></tr></thead><tbody><tr><td>5</td><td>5</td></tr></tbody></table></div>"
      ]
     },
     "metadata": {
      "application/vnd.databricks.v1+output": {
       "addedWidgets": {},
       "aggData": [],
       "aggError": "",
       "aggOverflow": false,
       "aggSchema": [],
       "aggSeriesLimitReached": false,
       "aggType": "",
       "arguments": {},
       "columnCustomDisplayInfos": {},
       "data": [
        [
         5,
         5
        ]
       ],
       "datasetInfos": [],
       "dbfsResultPath": null,
       "isJsonSchema": true,
       "metadata": {},
       "overflow": false,
       "plotOptions": {
        "customPlotOptions": {},
        "displayType": "table",
        "pivotAggregation": null,
        "pivotColumns": null,
        "xColumns": null,
        "yColumns": null
       },
       "removedWidgets": [],
       "schema": [
        {
         "metadata": "{}",
         "name": "num_affected_rows",
         "type": "\"long\""
        },
        {
         "metadata": "{}",
         "name": "num_inserted_rows",
         "type": "\"long\""
        }
       ],
       "type": "table"
      }
     },
     "output_type": "display_data"
    }
   ],
   "source": [
    "%sql\n",
    "INSERT into car_gold01\n",
    "select car_name,car_brand,avg(units_sold) as avg_units,car_type from car_silver01 group by car_name, car_brand, car_type"
   ]
  },
  {
   "cell_type": "code",
   "execution_count": 0,
   "metadata": {
    "application/vnd.databricks.v1+cell": {
     "cellMetadata": {
      "byteLimit": 2048000,
      "implicitDf": true,
      "rowLimit": 10000
     },
     "inputWidgets": {},
     "nuid": "bdbde7d3-e4e6-43fc-9372-ce81cb372578",
     "showTitle": false,
     "title": ""
    }
   },
   "outputs": [
    {
     "output_type": "display_data",
     "data": {
      "text/html": [
       "<style scoped>\n",
       "  .table-result-container {\n",
       "    max-height: 300px;\n",
       "    overflow: auto;\n",
       "  }\n",
       "  table, th, td {\n",
       "    border: 1px solid black;\n",
       "    border-collapse: collapse;\n",
       "  }\n",
       "  th, td {\n",
       "    padding: 5px;\n",
       "  }\n",
       "  th {\n",
       "    text-align: left;\n",
       "  }\n",
       "</style><div class='table-result-container'><table class='table-result'><thead style='background-color: white'><tr><th>car_name</th><th>car_brand</th><th>units_sold</th><th>car_type</th></tr></thead><tbody><tr><td>Urus</td><td>Lamborghini</td><td>75</td><td>SUV</td></tr><tr><td>Bentayga</td><td>Bentley</td><td>200</td><td>SUV</td></tr><tr><td>Breeza</td><td>Suzuki</td><td>20</td><td>CUV</td></tr><tr><td>Creta</td><td>Hyundai</td><td>750</td><td>SUV</td></tr><tr><td>LC300</td><td>Toyota</td><td>5</td><td>SUV</td></tr></tbody></table></div>"
      ]
     },
     "metadata": {
      "application/vnd.databricks.v1+output": {
       "addedWidgets": {},
       "aggData": [],
       "aggError": "",
       "aggOverflow": false,
       "aggSchema": [],
       "aggSeriesLimitReached": false,
       "aggType": "",
       "arguments": {},
       "columnCustomDisplayInfos": {},
       "data": [
        [
         "Urus",
         "Lamborghini",
         75,
         "SUV"
        ],
        [
         "Bentayga",
         "Bentley",
         200,
         "SUV"
        ],
        [
         "Breeza",
         "Suzuki",
         20,
         "CUV"
        ],
        [
         "Creta",
         "Hyundai",
         750,
         "SUV"
        ],
        [
         "LC300",
         "Toyota",
         5,
         "SUV"
        ]
       ],
       "datasetInfos": [],
       "dbfsResultPath": null,
       "isJsonSchema": true,
       "metadata": {},
       "overflow": false,
       "plotOptions": {
        "customPlotOptions": {},
        "displayType": "table",
        "pivotAggregation": null,
        "pivotColumns": null,
        "xColumns": null,
        "yColumns": null
       },
       "removedWidgets": [],
       "schema": [
        {
         "metadata": "{}",
         "name": "car_name",
         "type": "\"string\""
        },
        {
         "metadata": "{}",
         "name": "car_brand",
         "type": "\"string\""
        },
        {
         "metadata": "{}",
         "name": "units_sold",
         "type": "\"integer\""
        },
        {
         "metadata": "{}",
         "name": "car_type",
         "type": "\"string\""
        }
       ],
       "type": "table"
      }
     },
     "output_type": "display_data"
    }
   ],
   "source": [
    "%sql\n",
    "select * from car_gold01"
   ]
  },
  {
   "cell_type": "code",
   "execution_count": 0,
   "metadata": {
    "application/vnd.databricks.v1+cell": {
     "cellMetadata": {
      "byteLimit": 2048000,
      "implicitDf": true,
      "rowLimit": 10000
     },
     "inputWidgets": {},
     "nuid": "1604a1a6-426e-4a5b-8da8-cc0972db4141",
     "showTitle": false,
     "title": ""
    }
   },
   "outputs": [
    {
     "output_type": "display_data",
     "data": {
      "text/html": [
       "<style scoped>\n",
       "  .table-result-container {\n",
       "    max-height: 300px;\n",
       "    overflow: auto;\n",
       "  }\n",
       "  table, th, td {\n",
       "    border: 1px solid black;\n",
       "    border-collapse: collapse;\n",
       "  }\n",
       "  th, td {\n",
       "    padding: 5px;\n",
       "  }\n",
       "  th {\n",
       "    text-align: left;\n",
       "  }\n",
       "</style><div class='table-result-container'><table class='table-result'><thead style='background-color: white'><tr><th>num_affected_rows</th><th>num_updated_rows</th><th>num_deleted_rows</th><th>num_inserted_rows</th></tr></thead><tbody><tr><td>10</td><td>10</td><td>0</td><td>0</td></tr></tbody></table></div>"
      ]
     },
     "metadata": {
      "application/vnd.databricks.v1+output": {
       "addedWidgets": {},
       "aggData": [],
       "aggError": "",
       "aggOverflow": false,
       "aggSchema": [],
       "aggSeriesLimitReached": false,
       "aggType": "",
       "arguments": {},
       "columnCustomDisplayInfos": {},
       "data": [
        [
         10,
         10,
         0,
         0
        ]
       ],
       "datasetInfos": [],
       "dbfsResultPath": null,
       "isJsonSchema": true,
       "metadata": {},
       "overflow": false,
       "plotOptions": {
        "customPlotOptions": {},
        "displayType": "table",
        "pivotAggregation": null,
        "pivotColumns": null,
        "xColumns": null,
        "yColumns": null
       },
       "removedWidgets": [],
       "schema": [
        {
         "metadata": "{}",
         "name": "num_affected_rows",
         "type": "\"long\""
        },
        {
         "metadata": "{}",
         "name": "num_updated_rows",
         "type": "\"long\""
        },
        {
         "metadata": "{}",
         "name": "num_deleted_rows",
         "type": "\"long\""
        },
        {
         "metadata": "{}",
         "name": "num_inserted_rows",
         "type": "\"long\""
        }
       ],
       "type": "table"
      }
     },
     "output_type": "display_data"
    }
   ],
   "source": [
    "%sql\n",
    "merge into car_silver01\n",
    "using\n",
    "(select * from table_changes ('car_bronze01',2))\n",
    "as car_bronze_1\n",
    "on car_bronze_1.car_name=car_silver01.car_name and\n",
    "car_bronze_1.car_brand=car_silver01.car_brand and\n",
    "car_bronze_1.units_sold=car_silver01.units_sold\n",
    "when matched then\n",
    "update set car_silver01.car_type= car_silver01.car_type\n",
    "when not matched\n",
    "then insert (car_name, car_brand, units_sold, car_type) values (car_name, car_brand, units_sold, car_type)"
   ]
  },
  {
   "cell_type": "code",
   "execution_count": 0,
   "metadata": {
    "application/vnd.databricks.v1+cell": {
     "cellMetadata": {
      "byteLimit": 2048000,
      "implicitDf": true,
      "rowLimit": 10000
     },
     "inputWidgets": {},
     "nuid": "08692e45-6775-4702-a8e1-a2037335f44c",
     "showTitle": false,
     "title": ""
    }
   },
   "outputs": [
    {
     "output_type": "display_data",
     "data": {
      "text/html": [
       "<style scoped>\n",
       "  .table-result-container {\n",
       "    max-height: 300px;\n",
       "    overflow: auto;\n",
       "  }\n",
       "  table, th, td {\n",
       "    border: 1px solid black;\n",
       "    border-collapse: collapse;\n",
       "  }\n",
       "  th, td {\n",
       "    padding: 5px;\n",
       "  }\n",
       "  th {\n",
       "    text-align: left;\n",
       "  }\n",
       "</style><div class='table-result-container'><table class='table-result'><thead style='background-color: white'><tr><th>car_name</th><th>car_brand</th><th>units_sold</th><th>car_type</th><th>_change_type</th><th>_commit_version</th><th>_commit_timestamp</th></tr></thead><tbody><tr><td>Urus</td><td>Lamborghini</td><td>75</td><td>SUV</td><td>update_preimage</td><td>2</td><td>2023-05-24T11:12:46.000+0000</td></tr><tr><td>Urus</td><td>Lamborghini</td><td>75</td><td>SUV</td><td>update_postimage</td><td>2</td><td>2023-05-24T11:12:46.000+0000</td></tr><tr><td>Urus</td><td>Lamborghini</td><td>75</td><td>SUV</td><td>update_preimage</td><td>2</td><td>2023-05-24T11:12:46.000+0000</td></tr><tr><td>Urus</td><td>Lamborghini</td><td>75</td><td>SUV</td><td>update_postimage</td><td>2</td><td>2023-05-24T11:12:46.000+0000</td></tr><tr><td>Bentayga</td><td>Bentley</td><td>200</td><td>SUV</td><td>update_preimage</td><td>2</td><td>2023-05-24T11:12:46.000+0000</td></tr><tr><td>Bentayga</td><td>Bentley</td><td>200</td><td>SUV</td><td>update_postimage</td><td>2</td><td>2023-05-24T11:12:46.000+0000</td></tr><tr><td>Bentayga</td><td>Bentley</td><td>200</td><td>SUV</td><td>update_preimage</td><td>2</td><td>2023-05-24T11:12:46.000+0000</td></tr><tr><td>Bentayga</td><td>Bentley</td><td>200</td><td>SUV</td><td>update_postimage</td><td>2</td><td>2023-05-24T11:12:46.000+0000</td></tr><tr><td>Breeza</td><td>Suzuki</td><td>20</td><td>CUV</td><td>update_preimage</td><td>2</td><td>2023-05-24T11:12:46.000+0000</td></tr><tr><td>Breeza</td><td>Suzuki</td><td>20</td><td>CUV</td><td>update_postimage</td><td>2</td><td>2023-05-24T11:12:46.000+0000</td></tr><tr><td>Breeza</td><td>Suzuki</td><td>20</td><td>CUV</td><td>update_preimage</td><td>2</td><td>2023-05-24T11:12:46.000+0000</td></tr><tr><td>Breeza</td><td>Suzuki</td><td>20</td><td>CUV</td><td>update_postimage</td><td>2</td><td>2023-05-24T11:12:46.000+0000</td></tr><tr><td>Creta</td><td>Hyundai</td><td>750</td><td>SUV</td><td>update_preimage</td><td>2</td><td>2023-05-24T11:12:46.000+0000</td></tr><tr><td>Creta</td><td>Hyundai</td><td>750</td><td>SUV</td><td>update_postimage</td><td>2</td><td>2023-05-24T11:12:46.000+0000</td></tr><tr><td>Creta</td><td>Hyundai</td><td>750</td><td>SUV</td><td>update_preimage</td><td>2</td><td>2023-05-24T11:12:46.000+0000</td></tr><tr><td>Creta</td><td>Hyundai</td><td>750</td><td>SUV</td><td>update_postimage</td><td>2</td><td>2023-05-24T11:12:46.000+0000</td></tr><tr><td>LC300</td><td>Toyota</td><td>5</td><td>SUV</td><td>update_preimage</td><td>2</td><td>2023-05-24T11:12:46.000+0000</td></tr><tr><td>LC300</td><td>Toyota</td><td>5</td><td>SUV</td><td>update_postimage</td><td>2</td><td>2023-05-24T11:12:46.000+0000</td></tr><tr><td>LC300</td><td>Toyota</td><td>5</td><td>SUV</td><td>update_preimage</td><td>2</td><td>2023-05-24T11:12:46.000+0000</td></tr><tr><td>LC300</td><td>Toyota</td><td>5</td><td>SUV</td><td>update_postimage</td><td>2</td><td>2023-05-24T11:12:46.000+0000</td></tr><tr><td>Urus</td><td>Lamborghini</td><td>75</td><td>SUV</td><td>insert</td><td>1</td><td>2023-05-24T09:16:39.000+0000</td></tr><tr><td>Bentayga</td><td>Bentley</td><td>200</td><td>SUV</td><td>insert</td><td>1</td><td>2023-05-24T09:16:39.000+0000</td></tr><tr><td>Urus</td><td>Lamborghini</td><td>75</td><td>SUV</td><td>insert</td><td>1</td><td>2023-05-24T09:16:39.000+0000</td></tr><tr><td>Bentayga</td><td>Bentley</td><td>200</td><td>SUV</td><td>insert</td><td>1</td><td>2023-05-24T09:16:39.000+0000</td></tr><tr><td>Breeza</td><td>Suzuki</td><td>20</td><td>CUV</td><td>insert</td><td>1</td><td>2023-05-24T09:16:39.000+0000</td></tr><tr><td>Breeza</td><td>Suzuki</td><td>20</td><td>CUV</td><td>insert</td><td>1</td><td>2023-05-24T09:16:39.000+0000</td></tr><tr><td>Creta</td><td>Hyundai</td><td>750</td><td>SUV</td><td>insert</td><td>1</td><td>2023-05-24T09:16:39.000+0000</td></tr><tr><td>Creta</td><td>Hyundai</td><td>750</td><td>SUV</td><td>insert</td><td>1</td><td>2023-05-24T09:16:39.000+0000</td></tr><tr><td>LC300</td><td>Toyota</td><td>5</td><td>SUV</td><td>insert</td><td>1</td><td>2023-05-24T09:16:39.000+0000</td></tr><tr><td>LC300</td><td>Toyota</td><td>5</td><td>SUV</td><td>insert</td><td>1</td><td>2023-05-24T09:16:39.000+0000</td></tr></tbody></table></div>"
      ]
     },
     "metadata": {
      "application/vnd.databricks.v1+output": {
       "addedWidgets": {},
       "aggData": [],
       "aggError": "",
       "aggOverflow": false,
       "aggSchema": [],
       "aggSeriesLimitReached": false,
       "aggType": "",
       "arguments": {},
       "columnCustomDisplayInfos": {},
       "data": [
        [
         "Urus",
         "Lamborghini",
         75,
         "SUV",
         "update_preimage",
         2,
         "2023-05-24T11:12:46.000+0000"
        ],
        [
         "Urus",
         "Lamborghini",
         75,
         "SUV",
         "update_postimage",
         2,
         "2023-05-24T11:12:46.000+0000"
        ],
        [
         "Urus",
         "Lamborghini",
         75,
         "SUV",
         "update_preimage",
         2,
         "2023-05-24T11:12:46.000+0000"
        ],
        [
         "Urus",
         "Lamborghini",
         75,
         "SUV",
         "update_postimage",
         2,
         "2023-05-24T11:12:46.000+0000"
        ],
        [
         "Bentayga",
         "Bentley",
         200,
         "SUV",
         "update_preimage",
         2,
         "2023-05-24T11:12:46.000+0000"
        ],
        [
         "Bentayga",
         "Bentley",
         200,
         "SUV",
         "update_postimage",
         2,
         "2023-05-24T11:12:46.000+0000"
        ],
        [
         "Bentayga",
         "Bentley",
         200,
         "SUV",
         "update_preimage",
         2,
         "2023-05-24T11:12:46.000+0000"
        ],
        [
         "Bentayga",
         "Bentley",
         200,
         "SUV",
         "update_postimage",
         2,
         "2023-05-24T11:12:46.000+0000"
        ],
        [
         "Breeza",
         "Suzuki",
         20,
         "CUV",
         "update_preimage",
         2,
         "2023-05-24T11:12:46.000+0000"
        ],
        [
         "Breeza",
         "Suzuki",
         20,
         "CUV",
         "update_postimage",
         2,
         "2023-05-24T11:12:46.000+0000"
        ],
        [
         "Breeza",
         "Suzuki",
         20,
         "CUV",
         "update_preimage",
         2,
         "2023-05-24T11:12:46.000+0000"
        ],
        [
         "Breeza",
         "Suzuki",
         20,
         "CUV",
         "update_postimage",
         2,
         "2023-05-24T11:12:46.000+0000"
        ],
        [
         "Creta",
         "Hyundai",
         750,
         "SUV",
         "update_preimage",
         2,
         "2023-05-24T11:12:46.000+0000"
        ],
        [
         "Creta",
         "Hyundai",
         750,
         "SUV",
         "update_postimage",
         2,
         "2023-05-24T11:12:46.000+0000"
        ],
        [
         "Creta",
         "Hyundai",
         750,
         "SUV",
         "update_preimage",
         2,
         "2023-05-24T11:12:46.000+0000"
        ],
        [
         "Creta",
         "Hyundai",
         750,
         "SUV",
         "update_postimage",
         2,
         "2023-05-24T11:12:46.000+0000"
        ],
        [
         "LC300",
         "Toyota",
         5,
         "SUV",
         "update_preimage",
         2,
         "2023-05-24T11:12:46.000+0000"
        ],
        [
         "LC300",
         "Toyota",
         5,
         "SUV",
         "update_postimage",
         2,
         "2023-05-24T11:12:46.000+0000"
        ],
        [
         "LC300",
         "Toyota",
         5,
         "SUV",
         "update_preimage",
         2,
         "2023-05-24T11:12:46.000+0000"
        ],
        [
         "LC300",
         "Toyota",
         5,
         "SUV",
         "update_postimage",
         2,
         "2023-05-24T11:12:46.000+0000"
        ],
        [
         "Urus",
         "Lamborghini",
         75,
         "SUV",
         "insert",
         1,
         "2023-05-24T09:16:39.000+0000"
        ],
        [
         "Bentayga",
         "Bentley",
         200,
         "SUV",
         "insert",
         1,
         "2023-05-24T09:16:39.000+0000"
        ],
        [
         "Urus",
         "Lamborghini",
         75,
         "SUV",
         "insert",
         1,
         "2023-05-24T09:16:39.000+0000"
        ],
        [
         "Bentayga",
         "Bentley",
         200,
         "SUV",
         "insert",
         1,
         "2023-05-24T09:16:39.000+0000"
        ],
        [
         "Breeza",
         "Suzuki",
         20,
         "CUV",
         "insert",
         1,
         "2023-05-24T09:16:39.000+0000"
        ],
        [
         "Breeza",
         "Suzuki",
         20,
         "CUV",
         "insert",
         1,
         "2023-05-24T09:16:39.000+0000"
        ],
        [
         "Creta",
         "Hyundai",
         750,
         "SUV",
         "insert",
         1,
         "2023-05-24T09:16:39.000+0000"
        ],
        [
         "Creta",
         "Hyundai",
         750,
         "SUV",
         "insert",
         1,
         "2023-05-24T09:16:39.000+0000"
        ],
        [
         "LC300",
         "Toyota",
         5,
         "SUV",
         "insert",
         1,
         "2023-05-24T09:16:39.000+0000"
        ],
        [
         "LC300",
         "Toyota",
         5,
         "SUV",
         "insert",
         1,
         "2023-05-24T09:16:39.000+0000"
        ]
       ],
       "datasetInfos": [],
       "dbfsResultPath": null,
       "isJsonSchema": true,
       "metadata": {},
       "overflow": false,
       "plotOptions": {
        "customPlotOptions": {},
        "displayType": "table",
        "pivotAggregation": null,
        "pivotColumns": null,
        "xColumns": null,
        "yColumns": null
       },
       "removedWidgets": [],
       "schema": [
        {
         "metadata": "{}",
         "name": "car_name",
         "type": "\"string\""
        },
        {
         "metadata": "{}",
         "name": "car_brand",
         "type": "\"string\""
        },
        {
         "metadata": "{}",
         "name": "units_sold",
         "type": "\"integer\""
        },
        {
         "metadata": "{}",
         "name": "car_type",
         "type": "\"string\""
        },
        {
         "metadata": "{}",
         "name": "_change_type",
         "type": "\"string\""
        },
        {
         "metadata": "{}",
         "name": "_commit_version",
         "type": "\"long\""
        },
        {
         "metadata": "{}",
         "name": "_commit_timestamp",
         "type": "\"timestamp\""
        }
       ],
       "type": "table"
      }
     },
     "output_type": "display_data"
    }
   ],
   "source": [
    "%sql\n",
    "select * from table_changes (\"car_silver01\",1)"
   ]
  },
  {
   "cell_type": "code",
   "execution_count": 0,
   "metadata": {
    "application/vnd.databricks.v1+cell": {
     "cellMetadata": {},
     "inputWidgets": {},
     "nuid": "4d104352-8cb0-4ebe-a28c-6f7e8f514fe9",
     "showTitle": false,
     "title": ""
    }
   },
   "outputs": [],
   "source": []
  }
 ],
 "metadata": {
  "application/vnd.databricks.v1+notebook": {
   "dashboards": [],
   "language": "python",
   "notebookMetadata": {
    "mostRecentlyExecutedCommandWithImplicitDF": {
     "commandId": 2122898827043692,
     "dataframes": [
      "_sqldf"
     ]
    },
    "pythonIndentUnit": 4
   },
   "notebookName": "Medallion Arch Demo",
   "widgets": {}
  }
 },
 "nbformat": 4,
 "nbformat_minor": 0
}
